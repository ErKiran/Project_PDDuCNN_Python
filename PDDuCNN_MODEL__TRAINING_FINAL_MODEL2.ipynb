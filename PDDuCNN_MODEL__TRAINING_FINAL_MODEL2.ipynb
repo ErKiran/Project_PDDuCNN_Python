{
  "nbformat": 4,
  "nbformat_minor": 0,
  "metadata": {
    "colab": {
      "name": " PDDuCNN_MODEL _TRAINING.ipynb",
      "version": "0.3.2",
      "provenance": [],
      "collapsed_sections": [],
      "include_colab_link": true
    },
    "kernelspec": {
      "name": "python3",
      "display_name": "Python 3"
    },
    "accelerator": "GPU"
  },
  "cells": [
    {
      "cell_type": "markdown",
      "metadata": {
        "id": "view-in-github",
        "colab_type": "text"
      },
      "source": [
        "<a href=\"https://colab.research.google.com/github/rkdhakal/Project_PDDuCNN_Python/blob/master/PDDuCNN_MODEL__TRAINING_FINAL_MODEL2.ipynb\" target=\"_parent\"><img src=\"https://colab.research.google.com/assets/colab-badge.svg\" alt=\"Open In Colab\"/></a>"
      ]
    },
    {
      "cell_type": "code",
      "metadata": {
        "id": "dOU6Sj0hO3NF",
        "colab_type": "code",
        "colab": {}
      },
      "source": [
        "#! pip install tensorflow==1.13.1 tensorflow-gpu==1.13.1"
      ],
      "execution_count": 0,
      "outputs": []
    },
    {
      "cell_type": "code",
      "metadata": {
        "id": "uQow3BubPd4p",
        "colab_type": "code",
        "colab": {}
      },
      "source": [
        "#!git clone https://github.com/spMohanty/PlantVillage-Dataset.git"
      ],
      "execution_count": 0,
      "outputs": []
    },
    {
      "cell_type": "code",
      "metadata": {
        "id": "rG7fu5u2PdwK",
        "colab_type": "code",
        "colab": {}
      },
      "source": [
        "#Mount Drive\n",
        "from google.colab import drive\n",
        "drive.mount(\"/content/gdrive\")"
      ],
      "execution_count": 0,
      "outputs": []
    },
    {
      "cell_type": "code",
      "metadata": {
        "id": "_48hVNbGPdz5",
        "colab_type": "code",
        "colab": {}
      },
      "source": [
        "#checking the content of drive\n",
        "!ls /content/gdrive/My\\ Drive"
      ],
      "execution_count": 0,
      "outputs": []
    },
    {
      "cell_type": "code",
      "metadata": {
        "id": "qJf15fII6vOU",
        "colab_type": "code",
        "colab": {}
      },
      "source": [
        "!wget https://bin.equinox.io/c/4VmDzA7iaHb/ngrok-stable-linux-amd64.zip\n",
        "!unzip ngrok-stable-linux-amd64.zip\n",
        "log_dir = './log_dir'\n",
        "\n"
      ],
      "execution_count": 0,
      "outputs": []
    },
    {
      "cell_type": "code",
      "metadata": {
        "id": "PhSnR_JG6u0r",
        "colab_type": "code",
        "colab": {}
      },
      "source": [
        "get_ipython().system_raw(\n",
        "    'tensorboard --logdir {} --host 0.0.0.0 --port 6006 &'\n",
        "    .format(log_dir)\n",
        ")\n"
      ],
      "execution_count": 0,
      "outputs": []
    },
    {
      "cell_type": "code",
      "metadata": {
        "id": "GcehOxUc-_U-",
        "colab_type": "code",
        "outputId": "b83c0041-9768-40b6-ba76-aafe08ba33fb",
        "colab": {
          "base_uri": "https://localhost:8080/",
          "height": 51
        }
      },
      "source": [
        "!./ngrok authtoken 2pPGjayP884NJo2crSxwB_3BxYa5f5MdHqM2eZh5iNj\n",
        "get_ipython().system_raw('./ngrok http 6006 &')\n",
        "! curl -s http://localhost:4040/api/tunnels | python3 -c \\\n",
        "    \"import sys, json; print(json.load(sys.stdin)['tunnels'][0]['public_url'])\""
      ],
      "execution_count": 0,
      "outputs": [
        {
          "output_type": "stream",
          "text": [
            "Authtoken saved to configuration file: /root/.ngrok2/ngrok.yml\n",
            "https://07a29ccb.ngrok.io\n"
          ],
          "name": "stdout"
        }
      ]
    },
    {
      "cell_type": "code",
      "metadata": {
        "id": "edOcc2EBuElQ",
        "colab_type": "code",
        "colab": {}
      },
      "source": [
        "# load dataset file\n",
        "!unzip \"/content/gdrive/My Drive/PlantVillage.zip\""
      ],
      "execution_count": 0,
      "outputs": []
    },
    {
      "cell_type": "code",
      "metadata": {
        "id": "2UB3fsV5PeI6",
        "colab_type": "code",
        "outputId": "a765b45a-d639-4034-8803-3221da616334",
        "colab": {
          "base_uri": "https://localhost:8080/",
          "height": 34
        }
      },
      "source": [
        "#importing all necessary library\n",
        "import keras\n",
        "from keras.models import Sequential, load_model\n",
        "from keras.layers import Convolution2D, MaxPooling2D, Flatten, Dense, Dropout,Activation\n",
        "from keras.layers.normalization import BatchNormalization\n",
        "from keras import optimizers\n",
        "from keras.preprocessing.image import ImageDataGenerator\n",
        "from keras.callbacks import TensorBoard, ModelCheckpoint,EarlyStopping\n",
        "#from keras import regularizers"
      ],
      "execution_count": 0,
      "outputs": [
        {
          "output_type": "stream",
          "text": [
            "Using TensorFlow backend.\n"
          ],
          "name": "stderr"
        }
      ]
    },
    {
      "cell_type": "code",
      "metadata": {
        "id": "7r4m-nhHJQ2e",
        "colab_type": "code",
        "colab": {}
      },
      "source": [
        "classifier = load_model('/content/gdrive/My Drive/MyCNN/Epochs_with_val_loss_and_val_acc:39-0.0401-0.9873.hdf5')"
      ],
      "execution_count": 0,
      "outputs": []
    },
    {
      "cell_type": "code",
      "metadata": {
        "id": "ja0yF2qCPeNj",
        "colab_type": "code",
        "colab": {}
      },
      "source": [
        "\n",
        "# Initializing the CNN\n",
        "classifier =Sequential()\n",
        "\n",
        "# Convolution Step 1\n",
        "classifier.add(Convolution2D(64,(3,3),strides=(1,1), padding='same', input_shape=(224, 224, 3), activation='relu'))\n",
        "\n",
        "# Convolution Step 1\n",
        "classifier.add(Convolution2D(64,(3,3),strides=(1,1), padding='same', activation='relu'))\n",
        "\n",
        "\n",
        "# Max Pooling Step 1\n",
        "classifier.add(MaxPooling2D(pool_size=(2, 2), strides=(2, 2)))\n",
        "classifier.add(BatchNormalization())\n",
        "\n",
        "\n",
        "\n",
        "# Convolution Step 2\n",
        "classifier.add(Convolution2D(128,(3,3), strides=(1, 1), padding='same', activation='relu'))\n",
        "\n",
        "# Convolution Step 2\n",
        "classifier.add(Convolution2D(128,(3,3), strides=(1, 1), padding='same', activation='relu'))\n",
        "\n",
        "\n",
        "# Max Pooling Step 2\n",
        "classifier.add(MaxPooling2D(pool_size=(2, 2), strides=(2, 2)))\n",
        "classifier.add(BatchNormalization())\n",
        "\n",
        "\n",
        "\n",
        "# Convolution Step 3\n",
        "classifier.add(Convolution2D(256,(3,3), strides=(1, 1), padding='same', activation='relu'))\n",
        "\n",
        "# Convolution Step 3\n",
        "classifier.add(Convolution2D(256,(3,3), strides=(1, 1), padding='same', activation='relu'))\n",
        "\n",
        "# Convolution Step 3\n",
        "classifier.add(Convolution2D(256,(3,3), strides=(1, 1), padding='same', activation='relu'))\n",
        "\n",
        "\n",
        "# Max Pooling Step 3\n",
        "classifier.add(MaxPooling2D(pool_size=(2, 2), strides=(2, 2)))\n",
        "classifier.add(BatchNormalization())\n",
        "\n",
        "\n",
        "\n",
        "# Convolution Step 4\n",
        "classifier.add(Convolution2D(512,(3,3), strides=(1, 1), padding='same', activation='relu'))\n",
        "\n",
        "# Convolution Step 4\n",
        "classifier.add(Convolution2D(512,(3,3), strides=(1, 1), padding='same', activation='relu'))\n",
        "\n",
        "# Convolution Step 4\n",
        "classifier.add(Convolution2D(512,(3,3), strides=(1, 1), padding='same', activation='relu'))\n",
        "\n",
        "\n",
        "# Max Pooling Step 4\n",
        "classifier.add(MaxPooling2D(pool_size=(2, 2), strides=(2, 2)))\n",
        "classifier.add(BatchNormalization())\n",
        "\n",
        "\n",
        "\n",
        "# Convolution Step 5\n",
        "classifier.add(Convolution2D(512,(3,3), strides=(1, 1), padding='same', activation='relu'))\n",
        "\n",
        "# Convolution Step 5\n",
        "classifier.add(Convolution2D(512,(3,3), strides=(1, 1), padding='same', activation='relu'))\n",
        "\n",
        "# Convolution Step 5\n",
        "classifier.add(Convolution2D(512,(3,3), strides=(1, 1), padding='same', activation='relu'))\n",
        "\n",
        "\n",
        "# Max Pooling Step 5\n",
        "classifier.add(MaxPooling2D(pool_size=(2, 2), strides=(2, 2)))\n",
        "classifier.add(BatchNormalization())\n",
        "\n",
        "\n",
        "\n",
        "\n",
        "# Flattening Step\n",
        "classifier.add(Flatten())\n",
        "\n",
        "# Full Connection Step\n",
        "classifier.add(Dense(units=4096, activation='relu'))\n",
        "classifier.add(Dropout(0.4))\n",
        "classifier.add(BatchNormalization())\n",
        "classifier.add(Dense(units=4096, activation='relu'))\n",
        "classifier.add(Dropout(0.4))\n",
        "classifier.add(BatchNormalization())\n",
        "classifier.add(Dense(units=1000, activation='relu'))\n",
        "classifier.add(Dropout(0.2))\n",
        "classifier.add(BatchNormalization())\n",
        "classifier.add(Dense(units=38, activation='softmax'))\n",
        "\n",
        "classifier.summary()"
      ],
      "execution_count": 0,
      "outputs": []
    },
    {
      "cell_type": "code",
      "metadata": {
        "id": "-_7ki0oEPeRL",
        "colab_type": "code",
        "colab": {}
      },
      "source": [
        "# Compiling the CNN\n",
        "classifier.compile(optimizer=optimizers.SGD(lr=0.001, momentum=0.9, decay=0.0001),\n",
        "                   loss='categorical_crossentropy',\n",
        "                   metrics=['accuracy'])\n"
      ],
      "execution_count": 0,
      "outputs": []
    },
    {
      "cell_type": "code",
      "metadata": {
        "id": "MZ-BUyhHPeU2",
        "colab_type": "code",
        "colab": {}
      },
      "source": [
        "# image preprocessing\n",
        "train_datagen = ImageDataGenerator(rescale=1./255,\n",
        "                                   shear_range=0.2,\n",
        "                                   zoom_range=0.2,\n",
        "                                   width_shift_range=0.2,\n",
        "                                   height_shift_range=0.2,\n",
        "                                   rotation_range=40,\n",
        "                                   horizontal_flip=True,\n",
        "                                   fill_mode='nearest')"
      ],
      "execution_count": 0,
      "outputs": []
    },
    {
      "cell_type": "code",
      "metadata": {
        "id": "ZfZTvn6UL_sN",
        "colab_type": "code",
        "colab": {}
      },
      "source": [
        "test_datagen = ImageDataGenerator(rescale=1./255,\n",
        "                                 zoom_range=0.2,\n",
        "                                 width_shift_range=0.2,\n",
        "                                 height_shift_range=0.2,\n",
        "                                 rotation_range=40,\n",
        "                                 horizontal_flip=True,\n",
        "                                 fill_mode='nearest')"
      ],
      "execution_count": 0,
      "outputs": []
    },
    {
      "cell_type": "code",
      "metadata": {
        "id": "ts320wHyPePx",
        "colab_type": "code",
        "colab": {}
      },
      "source": [
        "batch_size = 64\n",
        "\n",
        "train_data_dir = \"/content/PlantVillage/PlantVillage-TrainSet\"     # directory of training data\n",
        "\n",
        "test_data_dir = \"/content/PlantVillage/PlantVillage-TestSet\"      # directory of test data\n"
      ],
      "execution_count": 0,
      "outputs": []
    },
    {
      "cell_type": "code",
      "metadata": {
        "id": "OWhOqGSGPeMB",
        "colab_type": "code",
        "outputId": "b3189578-685f-47e7-e39b-ea2f59029444",
        "colab": {
          "base_uri": "https://localhost:8080/",
          "height": 88
        }
      },
      "source": [
        "training_set = train_datagen.flow_from_directory(train_data_dir,\n",
        "                                                 target_size=(224, 224),\n",
        "                                                 batch_size=batch_size,\n",
        "                                                 class_mode='categorical')\n",
        "test_set = test_datagen.flow_from_directory(test_data_dir,\n",
        "                                            target_size=(224, 224),\n",
        "                                            batch_size=batch_size,\n",
        "                                            class_mode='categorical')\n",
        "\n",
        "print(training_set.class_indices)"
      ],
      "execution_count": 0,
      "outputs": [
        {
          "output_type": "stream",
          "text": [
            "Found 43755 images belonging to 38 classes.\n",
            "Found 10550 images belonging to 38 classes.\n",
            "{'Apple___Apple_scab': 0, 'Apple___Black_rot': 1, 'Apple___Cedar_apple_rust': 2, 'Apple___healthy': 3, 'Blueberry___healthy': 4, 'Cherry_(including_sour)___Powdery_mildew': 5, 'Cherry_(including_sour)___healthy': 6, 'Corn_(maize)___Cercospora_leaf_spot Gray_leaf_spot': 7, 'Corn_(maize)___Common_rust_': 8, 'Corn_(maize)___Northern_Leaf_Blight': 9, 'Corn_(maize)___healthy': 10, 'Grape___Black_rot': 11, 'Grape___Esca_(Black_Measles)': 12, 'Grape___Leaf_blight_(Isariopsis_Leaf_Spot)': 13, 'Grape___healthy': 14, 'Orange___Haunglongbing_(Citrus_greening)': 15, 'Peach___Bacterial_spot': 16, 'Peach___healthy': 17, 'Pepper,_bell___Bacterial_spot': 18, 'Pepper,_bell___healthy': 19, 'Potato___Early_blight': 20, 'Potato___Late_blight': 21, 'Potato___healthy': 22, 'Raspberry___healthy': 23, 'Soybean___healthy': 24, 'Squash___Powdery_mildew': 25, 'Strawberry___Leaf_scorch': 26, 'Strawberry___healthy': 27, 'Tomato___Bacterial_spot': 28, 'Tomato___Early_blight': 29, 'Tomato___Late_blight': 30, 'Tomato___Leaf_Mold': 31, 'Tomato___Septoria_leaf_spot': 32, 'Tomato___Spider_mites Two-spotted_spider_mite': 33, 'Tomato___Target_Spot': 34, 'Tomato___Tomato_Yellow_Leaf_Curl_Virus': 35, 'Tomato___Tomato_mosaic_virus': 36, 'Tomato___healthy': 37}\n"
          ],
          "name": "stdout"
        }
      ]
    },
    {
      "cell_type": "code",
      "metadata": {
        "id": "43Yb2i7bPeH1",
        "colab_type": "code",
        "colab": {}
      },
      "source": [
        "tensorboardCallback = TensorBoard(log_dir=log_dir,\n",
        "                                  write_graph=True,\n",
        "                                  write_images=True,\n",
        "                                  update_freq='batch')\n",
        "\n",
        "\n",
        "filepath=\"/content/gdrive/My Drive/MyCNN/Epochs_with_val_loss_and_val_acc:{epoch:02d}-{val_loss:.4f}-{val_acc:.4f}.hdf5\"\n",
        "modelCheckpointCallback = ModelCheckpoint(filepath, verbose = 0,save_best_only = False, mode = 'max', period = 1)"
      ],
      "execution_count": 0,
      "outputs": []
    },
    {
      "cell_type": "code",
      "metadata": {
        "id": "dgEdUFY87u_C",
        "colab_type": "code",
        "colab": {}
      },
      "source": [
        "early_stopping=EarlyStopping(monitor='val_loss', min_delta=0.0001, patience=2, verbose=0, mode='auto', baseline=None, restore_best_weights=False)\n"
      ],
      "execution_count": 0,
      "outputs": []
    },
    {
      "cell_type": "code",
      "metadata": {
        "id": "Pb0AOo6ePeDl",
        "colab_type": "code",
        "colab": {}
      },
      "source": [
        "history = classifier.fit_generator(training_set,\n",
        "                                  steps_per_epoch=training_set.samples//batch_size,\n",
        "                                  validation_data=test_set,\n",
        "                                  epochs=50,\n",
        "                                  validation_steps=test_set.samples//batch_size,\n",
        "                                  callbacks=[tensorboardCallback, modelCheckpointCallback,early_stopping], initial_epoch=39)"
      ],
      "execution_count": 0,
      "outputs": []
    },
    {
      "cell_type": "code",
      "metadata": {
        "id": "d9UyY78pVdQ4",
        "colab_type": "code",
        "colab": {}
      },
      "source": [
        "#saving model\n",
        "filepath=\"/content/gdrive/My Drive/project/Model_of_PDDuCNN.hdf5\"\n",
        "classifier.save(filepath)\n"
      ],
      "execution_count": 0,
      "outputs": []
    },
    {
      "cell_type": "code",
      "metadata": {
        "id": "R1H5BSf4U_RZ",
        "colab_type": "code",
        "colab": {
          "base_uri": "https://localhost:8080/",
          "height": 301
        },
        "outputId": "208fbdc5-b07a-402e-cd63-32391b1b855b"
      },
      "source": [
        "#plotting training values\n",
        "import matplotlib.pyplot as plt\n",
        "import seaborn as sns\n",
        "sns.set()\n",
        "\n",
        "acc = history.history['acc']\n",
        "val_acc = history.history['val_acc']\n",
        "loss = history.history['loss']\n",
        "val_loss = history.history['val_loss']\n",
        "epochs = range(1, len(loss) + 1)\n",
        "\n",
        "#accuracy plot\n",
        "plt.plot(epochs, acc, color='green', label='Training Accuracy')\n",
        "plt.plot(epochs, val_acc, color='blue', label='Validation Accuracy')\n",
        "plt.title('Training and Validation Accuracy')\n",
        "plt.ylabel('Accuracy')\n",
        "plt.xlabel('Epoch')\n",
        "plt.legend(['Train', 'Test'], loc='upper left')\n",
        "\n",
        "#loss plot\n",
        "plt.plot(epochs, loss, color='pink', label='Training Loss')\n",
        "plt.plot(epochs, val_loss, color='red', label='Validation Loss')\n",
        "plt.title('Training and Validation Loss')\n",
        "plt.xlabel('Epochs')\n",
        "plt.ylabel('Loss')\n",
        "plt.legend()\n",
        "\n",
        "plt.show()"
      ],
      "execution_count": 38,
      "outputs": [
        {
          "output_type": "display_data",
          "data": {
            "image/png": "[encoded data removed]",
            "text/plain": [
              "<Figure size 432x288 with 1 Axes>"
            ]
          },
          "metadata": {
            "tags": []
          }
        }
      ]
    }
  ]
}