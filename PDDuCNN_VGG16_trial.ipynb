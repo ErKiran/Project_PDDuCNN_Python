{
  "nbformat": 4,
  "nbformat_minor": 0,
  "metadata": {
    "colab": {
      "name": "PDDuCNN_VGG16_trial",
      "version": "0.3.2",
      "provenance": [],
      "collapsed_sections": [],
      "include_colab_link": true
    },
    "kernelspec": {
      "name": "python3",
      "display_name": "Python 3"
    },
    "accelerator": "GPU"
  },
  "cells": [
    {
      "cell_type": "markdown",
      "metadata": {
        "id": "view-in-github",
        "colab_type": "text"
      },
      "source": [
        "<a href=\"https://colab.research.google.com/github/rkdhakal/firstpython/blob/master/PDDuCNN_VGG16_trial.ipynb\" target=\"_parent\"><img src=\"https://colab.research.google.com/assets/colab-badge.svg\" alt=\"Open In Colab\"/></a>"
      ]
    },
    {
      "cell_type": "code",
      "metadata": {
        "id": "_jPimLJeuise",
        "colab_type": "code",
        "outputId": "266d5bb0-d4b5-425c-fbc6-02d8b908574f",
        "colab": {
          "base_uri": "https://localhost:8080/",
          "height": 119
        }
      },
      "source": [
        "!git clone https://github.com/spMohanty/PlantVillage-Dataset.git"
      ],
      "execution_count": 0,
      "outputs": [
        {
          "output_type": "stream",
          "text": [
            "Cloning into 'PlantVillage-Dataset'...\n",
            "remote: Enumerating objects: 163229, done.\u001b[K\n",
            "remote: Total 163229 (delta 0), reused 0 (delta 0), pack-reused 163229\n",
            "Receiving objects: 100% (163229/163229), 2.00 GiB | 44.57 MiB/s, done.\n",
            "Resolving deltas: 100% (99/99), done.\n",
            "Checking out files: 100% (182401/182401), done.\n"
          ],
          "name": "stdout"
        }
      ]
    },
    {
      "cell_type": "code",
      "metadata": {
        "id": "ITAWt5XOukJV",
        "colab_type": "code",
        "outputId": "9939b2b2-bcca-4314-9f14-fd63a88b9fcd",
        "colab": {
          "base_uri": "https://localhost:8080/",
          "height": 34
        }
      },
      "source": [
        "import keras\n",
        "from keras.models import Sequential\n",
        "from keras.layers import Convolution2D, MaxPooling2D, Flatten, Dense, Dropout,Activation\n",
        "from keras.layers.normalization import BatchNormalization\n",
        "from keras import optimizers\n",
        "from keras.preprocessing.image import ImageDataGenerator\n",
        "from keras.callbacks import TensorBoard, ModelCheckpoint\n",
        "from random import shuffle\n",
        "from keras import regularizers"
      ],
      "execution_count": 2,
      "outputs": [
        {
          "output_type": "stream",
          "text": [
            "Using TensorFlow backend.\n"
          ],
          "name": "stderr"
        }
      ]
    },
    {
      "cell_type": "code",
      "metadata": {
        "id": "8vhMayhNufKb",
        "colab_type": "code",
        "outputId": "0e5c0403-f28b-4a99-a4bf-a6c4b73c1992",
        "colab": {
          "base_uri": "https://localhost:8080/",
          "height": 1000
        }
      },
      "source": [
        "# Initializing the CNN\n",
        "classifier =Sequential()\n",
        "\n",
        "# Convolution Step 1\n",
        "classifier.add(Convolution2D(64,(3,3),strides=(1,1), padding='same', input_shape=(224, 224, 3), activation='relu'))\n",
        "\n",
        "# Convolution Step 1\n",
        "classifier.add(Convolution2D(64,(3,3),strides=(1,1), padding='same', activation='relu'))\n",
        "\n",
        "\n",
        "# Max Pooling Step 1\n",
        "classifier.add(MaxPooling2D(pool_size=(2, 2), strides=(2, 2)))\n",
        "classifier.add(BatchNormalization())\n",
        "\n",
        "\n",
        "\n",
        "\n",
        "\n",
        "# Convolution Step 2\n",
        "classifier.add(Convolution2D(128,(3,3), strides=(1, 1), padding='same', activation='relu'))\n",
        "\n",
        "# Convolution Step 2\n",
        "classifier.add(Convolution2D(128,(3,3), strides=(1, 1), padding='same', activation='relu'))\n",
        "\n",
        "\n",
        "# Max Pooling Step 2\n",
        "classifier.add(MaxPooling2D(pool_size=(2, 2), strides=(2, 2)))\n",
        "classifier.add(BatchNormalization())\n",
        "\n",
        "\n",
        "\n",
        "\n",
        "\n",
        "# Convolution Step 3\n",
        "classifier.add(Convolution2D(256,(3,3), strides=(1, 1), padding='same', activation='relu'))\n",
        "\n",
        "# Convolution Step 3\n",
        "classifier.add(Convolution2D(256,(3,3), strides=(1, 1), padding='same', activation='relu'))\n",
        "\n",
        "# Convolution Step 3\n",
        "classifier.add(Convolution2D(256,(3,3), strides=(1, 1), padding='same', activation='relu'))\n",
        "\n",
        "\n",
        "# Max Pooling Step 3\n",
        "classifier.add(MaxPooling2D(pool_size=(2, 2), strides=(2, 2)))\n",
        "classifier.add(BatchNormalization())\n",
        "\n",
        "\n",
        "\n",
        "# Convolution Step 4\n",
        "classifier.add(Convolution2D(512,(3,3), strides=(1, 1), padding='same', activation='relu'))\n",
        "\n",
        "# Convolution Step 4\n",
        "classifier.add(Convolution2D(512,(3,3), strides=(1, 1), padding='same', activation='relu'))\n",
        "\n",
        "# Convolution Step 4\n",
        "classifier.add(Convolution2D(512,(3,3), strides=(1, 1), padding='same', activation='relu'))\n",
        "\n",
        "\n",
        "# Max Pooling Step 4\n",
        "classifier.add(MaxPooling2D(pool_size=(2, 2), strides=(2, 2)))\n",
        "classifier.add(BatchNormalization())\n",
        "\n",
        "\n",
        "\n",
        "# Convolution Step 5\n",
        "classifier.add(Convolution2D(512,(3,3), strides=(1, 1), padding='same', activation='relu'))\n",
        "\n",
        "# Convolution Step 5\n",
        "classifier.add(Convolution2D(512,(3,3), strides=(1, 1), padding='same', activation='relu'))\n",
        "\n",
        "# Convolution Step 5\n",
        "classifier.add(Convolution2D(512,(3,3), strides=(1, 1), padding='same', activation='relu'))\n",
        "\n",
        "\n",
        "# Max Pooling Step 5\n",
        "classifier.add(MaxPooling2D(pool_size=(2, 2), strides=(2, 2)))\n",
        "classifier.add(BatchNormalization())\n",
        "\n",
        "\n",
        "\n",
        "\n",
        "# Flattening Step\n",
        "classifier.add(Flatten())\n",
        "\n",
        "# Full Connection Step\n",
        "classifier.add(Dense(units=4096, activation='relu'))\n",
        "classifier.add(Dropout(0.5))\n",
        "classifier.add(BatchNormalization())\n",
        "classifier.add(Dense(units=4096, activation='relu'))\n",
        "classifier.add(Dropout(0.5))\n",
        "classifier.add(BatchNormalization())\n",
        "classifier.add(Dense(units=1000, activation='relu'))\n",
        "classifier.add(Dropout(0.2))\n",
        "classifier.add(BatchNormalization())\n",
        "classifier.add(Dense(units=38, activation='softmax'))\n",
        "\n",
        "classifier.summary()"
      ],
      "execution_count": 3,
      "outputs": [
        {
          "output_type": "stream",
          "text": [
            "WARNING: Logging before flag parsing goes to stderr.\n",
            "W0629 06:02:46.029726 139629077972864 deprecation_wrapper.py:119] From /usr/local/lib/python3.6/dist-packages/keras/backend/tensorflow_backend.py:74: The name tf.get_default_graph is deprecated. Please use tf.compat.v1.get_default_graph instead.\n",
            "\n",
            "W0629 06:02:46.048848 139629077972864 deprecation_wrapper.py:119] From /usr/local/lib/python3.6/dist-packages/keras/backend/tensorflow_backend.py:517: The name tf.placeholder is deprecated. Please use tf.compat.v1.placeholder instead.\n",
            "\n",
            "W0629 06:02:46.051792 139629077972864 deprecation_wrapper.py:119] From /usr/local/lib/python3.6/dist-packages/keras/backend/tensorflow_backend.py:4138: The name tf.random_uniform is deprecated. Please use tf.random.uniform instead.\n",
            "\n",
            "W0629 06:02:46.081526 139629077972864 deprecation_wrapper.py:119] From /usr/local/lib/python3.6/dist-packages/keras/backend/tensorflow_backend.py:3976: The name tf.nn.max_pool is deprecated. Please use tf.nn.max_pool2d instead.\n",
            "\n",
            "W0629 06:02:46.098391 139629077972864 deprecation_wrapper.py:119] From /usr/local/lib/python3.6/dist-packages/keras/backend/tensorflow_backend.py:174: The name tf.get_default_session is deprecated. Please use tf.compat.v1.get_default_session instead.\n",
            "\n",
            "W0629 06:02:46.099384 139629077972864 deprecation_wrapper.py:119] From /usr/local/lib/python3.6/dist-packages/keras/backend/tensorflow_backend.py:181: The name tf.ConfigProto is deprecated. Please use tf.compat.v1.ConfigProto instead.\n",
            "\n",
            "W0629 06:02:47.042731 139629077972864 deprecation_wrapper.py:119] From /usr/local/lib/python3.6/dist-packages/keras/backend/tensorflow_backend.py:1834: The name tf.nn.fused_batch_norm is deprecated. Please use tf.compat.v1.nn.fused_batch_norm instead.\n",
            "\n",
            "W0629 06:02:47.703401 139629077972864 deprecation.py:506] From /usr/local/lib/python3.6/dist-packages/keras/backend/tensorflow_backend.py:3445: calling dropout (from tensorflow.python.ops.nn_ops) with keep_prob is deprecated and will be removed in a future version.\n",
            "Instructions for updating:\n",
            "Please use `rate` instead of `keep_prob`. Rate should be set to `rate = 1 - keep_prob`.\n"
          ],
          "name": "stderr"
        },
        {
          "output_type": "stream",
          "text": [
            "_________________________________________________________________\n",
            "Layer (type)                 Output Shape              Param #   \n",
            "=================================================================\n",
            "conv2d_1 (Conv2D)            (None, 224, 224, 64)      1792      \n",
            "_________________________________________________________________\n",
            "conv2d_2 (Conv2D)            (None, 224, 224, 64)      36928     \n",
            "_________________________________________________________________\n",
            "max_pooling2d_1 (MaxPooling2 (None, 112, 112, 64)      0         \n",
            "_________________________________________________________________\n",
            "batch_normalization_1 (Batch (None, 112, 112, 64)      256       \n",
            "_________________________________________________________________\n",
            "conv2d_3 (Conv2D)            (None, 112, 112, 128)     73856     \n",
            "_________________________________________________________________\n",
            "conv2d_4 (Conv2D)            (None, 112, 112, 128)     147584    \n",
            "_________________________________________________________________\n",
            "max_pooling2d_2 (MaxPooling2 (None, 56, 56, 128)       0         \n",
            "_________________________________________________________________\n",
            "batch_normalization_2 (Batch (None, 56, 56, 128)       512       \n",
            "_________________________________________________________________\n",
            "conv2d_5 (Conv2D)            (None, 56, 56, 256)       295168    \n",
            "_________________________________________________________________\n",
            "conv2d_6 (Conv2D)            (None, 56, 56, 256)       590080    \n",
            "_________________________________________________________________\n",
            "conv2d_7 (Conv2D)            (None, 56, 56, 256)       590080    \n",
            "_________________________________________________________________\n",
            "max_pooling2d_3 (MaxPooling2 (None, 28, 28, 256)       0         \n",
            "_________________________________________________________________\n",
            "batch_normalization_3 (Batch (None, 28, 28, 256)       1024      \n",
            "_________________________________________________________________\n",
            "conv2d_8 (Conv2D)            (None, 28, 28, 512)       1180160   \n",
            "_________________________________________________________________\n",
            "conv2d_9 (Conv2D)            (None, 28, 28, 512)       2359808   \n",
            "_________________________________________________________________\n",
            "conv2d_10 (Conv2D)           (None, 28, 28, 512)       2359808   \n",
            "_________________________________________________________________\n",
            "max_pooling2d_4 (MaxPooling2 (None, 14, 14, 512)       0         \n",
            "_________________________________________________________________\n",
            "batch_normalization_4 (Batch (None, 14, 14, 512)       2048      \n",
            "_________________________________________________________________\n",
            "conv2d_11 (Conv2D)           (None, 14, 14, 512)       2359808   \n",
            "_________________________________________________________________\n",
            "conv2d_12 (Conv2D)           (None, 14, 14, 512)       2359808   \n",
            "_________________________________________________________________\n",
            "conv2d_13 (Conv2D)           (None, 14, 14, 512)       2359808   \n",
            "_________________________________________________________________\n",
            "max_pooling2d_5 (MaxPooling2 (None, 7, 7, 512)         0         \n",
            "_________________________________________________________________\n",
            "batch_normalization_5 (Batch (None, 7, 7, 512)         2048      \n",
            "_________________________________________________________________\n",
            "flatten_1 (Flatten)          (None, 25088)             0         \n",
            "_________________________________________________________________\n",
            "dense_1 (Dense)              (None, 4096)              102764544 \n",
            "_________________________________________________________________\n",
            "dropout_1 (Dropout)          (None, 4096)              0         \n",
            "_________________________________________________________________\n",
            "batch_normalization_6 (Batch (None, 4096)              16384     \n",
            "_________________________________________________________________\n",
            "dense_2 (Dense)              (None, 4096)              16781312  \n",
            "_________________________________________________________________\n",
            "dropout_2 (Dropout)          (None, 4096)              0         \n",
            "_________________________________________________________________\n",
            "batch_normalization_7 (Batch (None, 4096)              16384     \n",
            "_________________________________________________________________\n",
            "dense_3 (Dense)              (None, 1000)              4097000   \n",
            "_________________________________________________________________\n",
            "dropout_3 (Dropout)          (None, 1000)              0         \n",
            "_________________________________________________________________\n",
            "batch_normalization_8 (Batch (None, 1000)              4000      \n",
            "_________________________________________________________________\n",
            "dense_4 (Dense)              (None, 38)                38038     \n",
            "=================================================================\n",
            "Total params: 138,438,238\n",
            "Trainable params: 138,416,910\n",
            "Non-trainable params: 21,328\n",
            "_________________________________________________________________\n"
          ],
          "name": "stdout"
        }
      ]
    },
    {
      "cell_type": "code",
      "metadata": {
        "id": "Kj9ZjW-R3S3m",
        "colab_type": "code",
        "colab": {
          "base_uri": "https://localhost:8080/",
          "height": 71
        },
        "outputId": "6756de95-79a2-4f4f-d5cf-79687dfc8d3e"
      },
      "source": [
        "# Compiling the CNN\n",
        "classifier.compile(optimizer=optimizers.SGD(lr=0.001, momentum=0.9, decay=0.0001),\n",
        "                   loss='categorical_crossentropy',\n",
        "                   metrics=['accuracy'])\n"
      ],
      "execution_count": 4,
      "outputs": [
        {
          "output_type": "stream",
          "text": [
            "W0629 06:03:14.882049 139629077972864 deprecation_wrapper.py:119] From /usr/local/lib/python3.6/dist-packages/keras/optimizers.py:790: The name tf.train.Optimizer is deprecated. Please use tf.compat.v1.train.Optimizer instead.\n",
            "\n"
          ],
          "name": "stderr"
        }
      ]
    },
    {
      "cell_type": "code",
      "metadata": {
        "id": "3XZfHbwX2qAW",
        "colab_type": "code",
        "colab": {}
      },
      "source": [
        "# image preprocessing\n",
        "train_datagen = ImageDataGenerator(rescale=1./255,\n",
        "                                   rotation_range=40,\n",
        "                                   shear_range=0.2,\n",
        "                                   zoom_range=0.2,\n",
        "                                   width_shift_range=0.2,\n",
        "                                   height_shift_range=0.2,\n",
        "                                   horizontal_flip=True,\n",
        "                                   fill_mode='nearest')"
      ],
      "execution_count": 0,
      "outputs": []
    },
    {
      "cell_type": "code",
      "metadata": {
        "id": "2G7Y-cDl2rgw",
        "colab_type": "code",
        "colab": {}
      },
      "source": [
        "batch_size = 64\n",
        "train_data_dir = \"/content/PlantVillage-Dataset/raw/color\"     # directory of training data"
      ],
      "execution_count": 0,
      "outputs": []
    },
    {
      "cell_type": "code",
      "metadata": {
        "id": "cMV_7GrX2rtw",
        "colab_type": "code",
        "outputId": "aaeda6af-3539-4215-d8b3-ad3d52f2ef18",
        "colab": {
          "base_uri": "https://localhost:8080/",
          "height": 34
        }
      },
      "source": [
        "training_set = train_datagen.flow_from_directory(train_data_dir,\n",
        "                                                 target_size=(224, 224),\n",
        "                                                 batch_size=batch_size,                 \n",
        "                                                 class_mode='categorical')"
      ],
      "execution_count": 10,
      "outputs": [
        {
          "output_type": "stream",
          "text": [
            "Found 54305 images belonging to 38 classes.\n"
          ],
          "name": "stdout"
        }
      ]
    },
    {
      "cell_type": "code",
      "metadata": {
        "id": "06JhgZFJ2sHO",
        "colab_type": "code",
        "outputId": "16548db8-ab6f-4189-c13f-4f3683a03f21",
        "colab": {
          "base_uri": "https://localhost:8080/",
          "height": 697
        }
      },
      "source": [
        "history = classifier.fit_generator(training_set,  \n",
        "                                   steps_per_epoch=training_set.samples//batch_size,\n",
        "                                   epochs=20)  "
      ],
      "execution_count": 11,
      "outputs": [
        {
          "output_type": "stream",
          "text": [
            "Epoch 1/20\n",
            "848/848 [==============================] - 831s 980ms/step - loss: 2.5296 - acc: 0.3449\n",
            "Epoch 2/20\n",
            "848/848 [==============================] - 825s 973ms/step - loss: 1.5930 - acc: 0.5387\n",
            "Epoch 3/20\n",
            "848/848 [==============================] - 817s 964ms/step - loss: 1.1123 - acc: 0.6661\n",
            "Epoch 4/20\n",
            "848/848 [==============================] - 817s 964ms/step - loss: 0.8189 - acc: 0.7477\n",
            "Epoch 5/20\n",
            "848/848 [==============================] - 817s 964ms/step - loss: 0.6224 - acc: 0.8045\n",
            "Epoch 6/20\n",
            "848/848 [==============================] - 817s 964ms/step - loss: 0.4982 - acc: 0.8410\n",
            "Epoch 7/20\n",
            "848/848 [==============================] - 818s 964ms/step - loss: 0.4021 - acc: 0.8710\n",
            "Epoch 8/20\n",
            "848/848 [==============================] - 818s 964ms/step - loss: 0.3197 - acc: 0.8976\n",
            "Epoch 9/20\n",
            "848/848 [==============================] - 818s 964ms/step - loss: 0.2795 - acc: 0.9093\n",
            "Epoch 10/20\n",
            "848/848 [==============================] - 818s 965ms/step - loss: 0.2431 - acc: 0.9229\n",
            "Epoch 11/20\n",
            "848/848 [==============================] - 818s 965ms/step - loss: 0.2158 - acc: 0.9308\n",
            "Epoch 12/20\n",
            "848/848 [==============================] - 818s 965ms/step - loss: 0.1867 - acc: 0.9395\n",
            "Epoch 13/20\n",
            "848/848 [==============================] - 818s 965ms/step - loss: 0.1731 - acc: 0.9437\n",
            "Epoch 14/20\n",
            "848/848 [==============================] - 818s 965ms/step - loss: 0.1570 - acc: 0.9491\n",
            "Epoch 15/20\n",
            "848/848 [==============================] - 818s 964ms/step - loss: 0.1472 - acc: 0.9523\n",
            "Epoch 16/20\n",
            "848/848 [==============================] - 818s 964ms/step - loss: 0.1337 - acc: 0.9570\n",
            "Epoch 17/20\n",
            "848/848 [==============================] - 818s 964ms/step - loss: 0.1216 - acc: 0.9602\n",
            "Epoch 18/20\n",
            "848/848 [==============================] - 818s 965ms/step - loss: 0.1174 - acc: 0.9625\n",
            "Epoch 19/20\n",
            "848/848 [==============================] - 818s 965ms/step - loss: 0.1103 - acc: 0.9643\n",
            "Epoch 20/20\n",
            "848/848 [==============================] - 818s 965ms/step - loss: 0.1027 - acc: 0.9667\n"
          ],
          "name": "stdout"
        }
      ]
    }
  ]
}